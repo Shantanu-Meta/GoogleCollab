{
  "nbformat": 4,
  "nbformat_minor": 0,
  "metadata": {
    "colab": {
      "provenance": [],
      "authorship_tag": "ABX9TyP4cNgvyAHvqFJ7xsCjfQ/h",
      "include_colab_link": true
    },
    "kernelspec": {
      "name": "python3",
      "display_name": "Python 3"
    },
    "language_info": {
      "name": "python"
    }
  },
  "cells": [
    {
      "cell_type": "markdown",
      "metadata": {
        "id": "view-in-github",
        "colab_type": "text"
      },
      "source": [
        "<a href=\"https://colab.research.google.com/github/Shantanu-Meta/GoogleCollab/blob/main/Lab_mid_sem_1.ipynb\" target=\"_parent\"><img src=\"https://colab.research.google.com/assets/colab-badge.svg\" alt=\"Open In Colab\"/></a>"
      ]
    },
    {
      "source": [
        "import pandas as pd\n",
        "# Create a dictionary with the data\n",
        "data = {'Roll Number': [1, 2, 3, 4, 5],\n",
        "        'Name': ['Alice', 'Bob', 'Charlie', 'David', 'Eve'],\n",
        "        'Total Marks': [80, 90, 75, 85, 95],\n",
        "        'Class': ['A', 'B', 'A', 'C', 'B']}\n",
        "\n",
        "# Create a DataFrame from the dictionary\n",
        "df = pd.DataFrame(data)\n",
        "\n",
        "# Sort the DataFrame by Name and then by Total Marks\n",
        "df_sorted = df.sort_values(by=['Name', 'Total Marks'])\n",
        "\n",
        "# Print the sorted DataFrame\n",
        "print(df_sorted)"
      ],
      "cell_type": "code",
      "metadata": {
        "colab": {
          "base_uri": "https://localhost:8080/"
        },
        "id": "xHQmCZjpQ86m",
        "outputId": "35f45a04-2837-40e1-e2cc-d7cbd3bb9511"
      },
      "execution_count": null,
      "outputs": [
        {
          "output_type": "stream",
          "name": "stdout",
          "text": [
            "   Roll Number     Name  Total Marks Class\n",
            "0            1    Alice           80     A\n",
            "1            2      Bob           90     B\n",
            "2            3  Charlie           75     A\n",
            "3            4    David           85     C\n",
            "4            5      Eve           95     B\n"
          ]
        }
      ]
    },
    {
      "cell_type": "code",
      "source": [
        "from google.colab import drive\n",
        "drive.mount(\"/content/Heart.csv\")"
      ],
      "metadata": {
        "colab": {
          "base_uri": "https://localhost:8080/",
          "height": 304
        },
        "id": "ZUxbS5alS6NL",
        "outputId": "1db16398-55e7-4f56-fc32-1b6522fc0f75"
      },
      "execution_count": null,
      "outputs": [
        {
          "output_type": "error",
          "ename": "ValueError",
          "evalue": "Mountpoint must either be a directory or not exist",
          "traceback": [
            "\u001b[0;31m---------------------------------------------------------------------------\u001b[0m",
            "\u001b[0;31mValueError\u001b[0m                                Traceback (most recent call last)",
            "\u001b[0;32m<ipython-input-4-fa8f6c46899d>\u001b[0m in \u001b[0;36m<cell line: 2>\u001b[0;34m()\u001b[0m\n\u001b[1;32m      1\u001b[0m \u001b[0;32mfrom\u001b[0m \u001b[0mgoogle\u001b[0m\u001b[0;34m.\u001b[0m\u001b[0mcolab\u001b[0m \u001b[0;32mimport\u001b[0m \u001b[0mdrive\u001b[0m\u001b[0;34m\u001b[0m\u001b[0;34m\u001b[0m\u001b[0m\n\u001b[0;32m----> 2\u001b[0;31m \u001b[0mdrive\u001b[0m\u001b[0;34m.\u001b[0m\u001b[0mmount\u001b[0m\u001b[0;34m(\u001b[0m\u001b[0;34m\"/content/Heart.csv\"\u001b[0m\u001b[0;34m)\u001b[0m\u001b[0;34m\u001b[0m\u001b[0;34m\u001b[0m\u001b[0m\n\u001b[0m",
            "\u001b[0;32m/usr/local/lib/python3.10/dist-packages/google/colab/drive.py\u001b[0m in \u001b[0;36mmount\u001b[0;34m(mountpoint, force_remount, timeout_ms, readonly)\u001b[0m\n\u001b[1;32m     98\u001b[0m \u001b[0;32mdef\u001b[0m \u001b[0mmount\u001b[0m\u001b[0;34m(\u001b[0m\u001b[0mmountpoint\u001b[0m\u001b[0;34m,\u001b[0m \u001b[0mforce_remount\u001b[0m\u001b[0;34m=\u001b[0m\u001b[0;32mFalse\u001b[0m\u001b[0;34m,\u001b[0m \u001b[0mtimeout_ms\u001b[0m\u001b[0;34m=\u001b[0m\u001b[0;36m120000\u001b[0m\u001b[0;34m,\u001b[0m \u001b[0mreadonly\u001b[0m\u001b[0;34m=\u001b[0m\u001b[0;32mFalse\u001b[0m\u001b[0;34m)\u001b[0m\u001b[0;34m:\u001b[0m\u001b[0;34m\u001b[0m\u001b[0;34m\u001b[0m\u001b[0m\n\u001b[1;32m     99\u001b[0m   \u001b[0;34m\"\"\"Mount your Google Drive at the specified mountpoint path.\"\"\"\u001b[0m\u001b[0;34m\u001b[0m\u001b[0;34m\u001b[0m\u001b[0m\n\u001b[0;32m--> 100\u001b[0;31m   return _mount(\n\u001b[0m\u001b[1;32m    101\u001b[0m       \u001b[0mmountpoint\u001b[0m\u001b[0;34m,\u001b[0m\u001b[0;34m\u001b[0m\u001b[0;34m\u001b[0m\u001b[0m\n\u001b[1;32m    102\u001b[0m       \u001b[0mforce_remount\u001b[0m\u001b[0;34m=\u001b[0m\u001b[0mforce_remount\u001b[0m\u001b[0;34m,\u001b[0m\u001b[0;34m\u001b[0m\u001b[0;34m\u001b[0m\u001b[0m\n",
            "\u001b[0;32m/usr/local/lib/python3.10/dist-packages/google/colab/drive.py\u001b[0m in \u001b[0;36m_mount\u001b[0;34m(mountpoint, force_remount, timeout_ms, ephemeral, readonly)\u001b[0m\n\u001b[1;32m    195\u001b[0m       \u001b[0;32mraise\u001b[0m \u001b[0mValueError\u001b[0m\u001b[0;34m(\u001b[0m\u001b[0;34m'Mountpoint must not already contain files'\u001b[0m\u001b[0;34m)\u001b[0m\u001b[0;34m\u001b[0m\u001b[0;34m\u001b[0m\u001b[0m\n\u001b[1;32m    196\u001b[0m     \u001b[0;32mif\u001b[0m \u001b[0;32mnot\u001b[0m \u001b[0m_os\u001b[0m\u001b[0;34m.\u001b[0m\u001b[0mpath\u001b[0m\u001b[0;34m.\u001b[0m\u001b[0misdir\u001b[0m\u001b[0;34m(\u001b[0m\u001b[0mmountpoint\u001b[0m\u001b[0;34m)\u001b[0m \u001b[0;32mand\u001b[0m \u001b[0m_os\u001b[0m\u001b[0;34m.\u001b[0m\u001b[0mpath\u001b[0m\u001b[0;34m.\u001b[0m\u001b[0mexists\u001b[0m\u001b[0;34m(\u001b[0m\u001b[0mmountpoint\u001b[0m\u001b[0;34m)\u001b[0m\u001b[0;34m:\u001b[0m\u001b[0;34m\u001b[0m\u001b[0;34m\u001b[0m\u001b[0m\n\u001b[0;32m--> 197\u001b[0;31m       \u001b[0;32mraise\u001b[0m \u001b[0mValueError\u001b[0m\u001b[0;34m(\u001b[0m\u001b[0;34m'Mountpoint must either be a directory or not exist'\u001b[0m\u001b[0;34m)\u001b[0m\u001b[0;34m\u001b[0m\u001b[0;34m\u001b[0m\u001b[0m\n\u001b[0m\u001b[1;32m    198\u001b[0m     \u001b[0mnormed\u001b[0m \u001b[0;34m=\u001b[0m \u001b[0m_os\u001b[0m\u001b[0;34m.\u001b[0m\u001b[0mpath\u001b[0m\u001b[0;34m.\u001b[0m\u001b[0mnormpath\u001b[0m\u001b[0;34m(\u001b[0m\u001b[0mmountpoint\u001b[0m\u001b[0;34m)\u001b[0m\u001b[0;34m\u001b[0m\u001b[0;34m\u001b[0m\u001b[0m\n\u001b[1;32m    199\u001b[0m     \u001b[0;32mif\u001b[0m \u001b[0;34m'/'\u001b[0m \u001b[0;32min\u001b[0m \u001b[0mnormed\u001b[0m \u001b[0;32mand\u001b[0m \u001b[0;32mnot\u001b[0m \u001b[0m_os\u001b[0m\u001b[0;34m.\u001b[0m\u001b[0mpath\u001b[0m\u001b[0;34m.\u001b[0m\u001b[0mexists\u001b[0m\u001b[0;34m(\u001b[0m\u001b[0m_os\u001b[0m\u001b[0;34m.\u001b[0m\u001b[0mpath\u001b[0m\u001b[0;34m.\u001b[0m\u001b[0mdirname\u001b[0m\u001b[0;34m(\u001b[0m\u001b[0mnormed\u001b[0m\u001b[0;34m)\u001b[0m\u001b[0;34m)\u001b[0m\u001b[0;34m:\u001b[0m\u001b[0;34m\u001b[0m\u001b[0;34m\u001b[0m\u001b[0m\n",
            "\u001b[0;31mValueError\u001b[0m: Mountpoint must either be a directory or not exist"
          ]
        }
      ]
    },
    {
      "cell_type": "code",
      "source": [
        "from google.colab import files\n",
        "uploaded = files.upload()"
      ],
      "metadata": {
        "colab": {
          "base_uri": "https://localhost:8080/",
          "height": 73
        },
        "id": "OiTu0KwXT8zY",
        "outputId": "661e3703-88f8-45cf-da77-20179544a83b"
      },
      "execution_count": null,
      "outputs": [
        {
          "output_type": "display_data",
          "data": {
            "text/plain": [
              "<IPython.core.display.HTML object>"
            ],
            "text/html": [
              "\n",
              "     <input type=\"file\" id=\"files-b493aa08-04c1-4ea6-9bea-31bd39041d3e\" name=\"files[]\" multiple disabled\n",
              "        style=\"border:none\" />\n",
              "     <output id=\"result-b493aa08-04c1-4ea6-9bea-31bd39041d3e\">\n",
              "      Upload widget is only available when the cell has been executed in the\n",
              "      current browser session. Please rerun this cell to enable.\n",
              "      </output>\n",
              "      <script>// Copyright 2017 Google LLC\n",
              "//\n",
              "// Licensed under the Apache License, Version 2.0 (the \"License\");\n",
              "// you may not use this file except in compliance with the License.\n",
              "// You may obtain a copy of the License at\n",
              "//\n",
              "//      http://www.apache.org/licenses/LICENSE-2.0\n",
              "//\n",
              "// Unless required by applicable law or agreed to in writing, software\n",
              "// distributed under the License is distributed on an \"AS IS\" BASIS,\n",
              "// WITHOUT WARRANTIES OR CONDITIONS OF ANY KIND, either express or implied.\n",
              "// See the License for the specific language governing permissions and\n",
              "// limitations under the License.\n",
              "\n",
              "/**\n",
              " * @fileoverview Helpers for google.colab Python module.\n",
              " */\n",
              "(function(scope) {\n",
              "function span(text, styleAttributes = {}) {\n",
              "  const element = document.createElement('span');\n",
              "  element.textContent = text;\n",
              "  for (const key of Object.keys(styleAttributes)) {\n",
              "    element.style[key] = styleAttributes[key];\n",
              "  }\n",
              "  return element;\n",
              "}\n",
              "\n",
              "// Max number of bytes which will be uploaded at a time.\n",
              "const MAX_PAYLOAD_SIZE = 100 * 1024;\n",
              "\n",
              "function _uploadFiles(inputId, outputId) {\n",
              "  const steps = uploadFilesStep(inputId, outputId);\n",
              "  const outputElement = document.getElementById(outputId);\n",
              "  // Cache steps on the outputElement to make it available for the next call\n",
              "  // to uploadFilesContinue from Python.\n",
              "  outputElement.steps = steps;\n",
              "\n",
              "  return _uploadFilesContinue(outputId);\n",
              "}\n",
              "\n",
              "// This is roughly an async generator (not supported in the browser yet),\n",
              "// where there are multiple asynchronous steps and the Python side is going\n",
              "// to poll for completion of each step.\n",
              "// This uses a Promise to block the python side on completion of each step,\n",
              "// then passes the result of the previous step as the input to the next step.\n",
              "function _uploadFilesContinue(outputId) {\n",
              "  const outputElement = document.getElementById(outputId);\n",
              "  const steps = outputElement.steps;\n",
              "\n",
              "  const next = steps.next(outputElement.lastPromiseValue);\n",
              "  return Promise.resolve(next.value.promise).then((value) => {\n",
              "    // Cache the last promise value to make it available to the next\n",
              "    // step of the generator.\n",
              "    outputElement.lastPromiseValue = value;\n",
              "    return next.value.response;\n",
              "  });\n",
              "}\n",
              "\n",
              "/**\n",
              " * Generator function which is called between each async step of the upload\n",
              " * process.\n",
              " * @param {string} inputId Element ID of the input file picker element.\n",
              " * @param {string} outputId Element ID of the output display.\n",
              " * @return {!Iterable<!Object>} Iterable of next steps.\n",
              " */\n",
              "function* uploadFilesStep(inputId, outputId) {\n",
              "  const inputElement = document.getElementById(inputId);\n",
              "  inputElement.disabled = false;\n",
              "\n",
              "  const outputElement = document.getElementById(outputId);\n",
              "  outputElement.innerHTML = '';\n",
              "\n",
              "  const pickedPromise = new Promise((resolve) => {\n",
              "    inputElement.addEventListener('change', (e) => {\n",
              "      resolve(e.target.files);\n",
              "    });\n",
              "  });\n",
              "\n",
              "  const cancel = document.createElement('button');\n",
              "  inputElement.parentElement.appendChild(cancel);\n",
              "  cancel.textContent = 'Cancel upload';\n",
              "  const cancelPromise = new Promise((resolve) => {\n",
              "    cancel.onclick = () => {\n",
              "      resolve(null);\n",
              "    };\n",
              "  });\n",
              "\n",
              "  // Wait for the user to pick the files.\n",
              "  const files = yield {\n",
              "    promise: Promise.race([pickedPromise, cancelPromise]),\n",
              "    response: {\n",
              "      action: 'starting',\n",
              "    }\n",
              "  };\n",
              "\n",
              "  cancel.remove();\n",
              "\n",
              "  // Disable the input element since further picks are not allowed.\n",
              "  inputElement.disabled = true;\n",
              "\n",
              "  if (!files) {\n",
              "    return {\n",
              "      response: {\n",
              "        action: 'complete',\n",
              "      }\n",
              "    };\n",
              "  }\n",
              "\n",
              "  for (const file of files) {\n",
              "    const li = document.createElement('li');\n",
              "    li.append(span(file.name, {fontWeight: 'bold'}));\n",
              "    li.append(span(\n",
              "        `(${file.type || 'n/a'}) - ${file.size} bytes, ` +\n",
              "        `last modified: ${\n",
              "            file.lastModifiedDate ? file.lastModifiedDate.toLocaleDateString() :\n",
              "                                    'n/a'} - `));\n",
              "    const percent = span('0% done');\n",
              "    li.appendChild(percent);\n",
              "\n",
              "    outputElement.appendChild(li);\n",
              "\n",
              "    const fileDataPromise = new Promise((resolve) => {\n",
              "      const reader = new FileReader();\n",
              "      reader.onload = (e) => {\n",
              "        resolve(e.target.result);\n",
              "      };\n",
              "      reader.readAsArrayBuffer(file);\n",
              "    });\n",
              "    // Wait for the data to be ready.\n",
              "    let fileData = yield {\n",
              "      promise: fileDataPromise,\n",
              "      response: {\n",
              "        action: 'continue',\n",
              "      }\n",
              "    };\n",
              "\n",
              "    // Use a chunked sending to avoid message size limits. See b/62115660.\n",
              "    let position = 0;\n",
              "    do {\n",
              "      const length = Math.min(fileData.byteLength - position, MAX_PAYLOAD_SIZE);\n",
              "      const chunk = new Uint8Array(fileData, position, length);\n",
              "      position += length;\n",
              "\n",
              "      const base64 = btoa(String.fromCharCode.apply(null, chunk));\n",
              "      yield {\n",
              "        response: {\n",
              "          action: 'append',\n",
              "          file: file.name,\n",
              "          data: base64,\n",
              "        },\n",
              "      };\n",
              "\n",
              "      let percentDone = fileData.byteLength === 0 ?\n",
              "          100 :\n",
              "          Math.round((position / fileData.byteLength) * 100);\n",
              "      percent.textContent = `${percentDone}% done`;\n",
              "\n",
              "    } while (position < fileData.byteLength);\n",
              "  }\n",
              "\n",
              "  // All done.\n",
              "  yield {\n",
              "    response: {\n",
              "      action: 'complete',\n",
              "    }\n",
              "  };\n",
              "}\n",
              "\n",
              "scope.google = scope.google || {};\n",
              "scope.google.colab = scope.google.colab || {};\n",
              "scope.google.colab._files = {\n",
              "  _uploadFiles,\n",
              "  _uploadFilesContinue,\n",
              "};\n",
              "})(self);\n",
              "</script> "
            ]
          },
          "metadata": {}
        },
        {
          "output_type": "stream",
          "name": "stdout",
          "text": [
            "Saving Heart.csv to Heart.csv\n"
          ]
        }
      ]
    },
    {
      "cell_type": "code",
      "source": [
        "import pandas as pd\n",
        "import io\n",
        "\n",
        "df = pd.read_csv(io.BytesIO(uploaded['Heart.csv']))\n",
        "print(df)"
      ],
      "metadata": {
        "colab": {
          "base_uri": "https://localhost:8080/"
        },
        "id": "7aFJB6tZUac3",
        "outputId": "93ad659e-1fc0-477b-982f-5db2ebb01123"
      },
      "execution_count": null,
      "outputs": [
        {
          "output_type": "stream",
          "name": "stdout",
          "text": [
            "     Unnamed: 0  Age  Sex     ChestPain  RestBP  Chol  Fbs  RestECG  MaxHR  \\\n",
            "0             1   63    1       typical     145   233    1        2    150   \n",
            "1             2   67    1  asymptomatic     160   286    0        2    108   \n",
            "2             3   67    1  asymptomatic     120   229    0        2    129   \n",
            "3             4   37    1    nonanginal     130   250    0        0    187   \n",
            "4             5   41    0    nontypical     130   204    0        2    172   \n",
            "..          ...  ...  ...           ...     ...   ...  ...      ...    ...   \n",
            "298         299   45    1       typical     110   264    0        0    132   \n",
            "299         300   68    1  asymptomatic     144   193    1        0    141   \n",
            "300         301   57    1  asymptomatic     130   131    0        0    115   \n",
            "301         302   57    0    nontypical     130   236    0        2    174   \n",
            "302         303   38    1    nonanginal     138   175    0        0    173   \n",
            "\n",
            "     ExAng  Oldpeak  Slope   Ca        Thal  AHD  \n",
            "0        0      2.3      3  0.0       fixed   No  \n",
            "1        1      1.5      2  3.0      normal  Yes  \n",
            "2        1      2.6      2  2.0  reversable  Yes  \n",
            "3        0      3.5      3  0.0      normal   No  \n",
            "4        0      1.4      1  0.0      normal   No  \n",
            "..     ...      ...    ...  ...         ...  ...  \n",
            "298      0      1.2      2  0.0  reversable  Yes  \n",
            "299      0      3.4      2  2.0  reversable  Yes  \n",
            "300      1      1.2      2  1.0  reversable  Yes  \n",
            "301      0      0.0      2  1.0      normal  Yes  \n",
            "302      0      0.0      1  NaN      normal   No  \n",
            "\n",
            "[303 rows x 15 columns]\n"
          ]
        }
      ]
    },
    {
      "cell_type": "code",
      "source": [
        "df.shape"
      ],
      "metadata": {
        "colab": {
          "base_uri": "https://localhost:8080/"
        },
        "id": "YQNrKls5Vnj0",
        "outputId": "8600e7ae-230f-431c-ff22-5f70e97de26b"
      },
      "execution_count": null,
      "outputs": [
        {
          "output_type": "execute_result",
          "data": {
            "text/plain": [
              "(303, 15)"
            ]
          },
          "metadata": {},
          "execution_count": 10
        }
      ]
    },
    {
      "cell_type": "code",
      "source": [
        "df_ex = df[['Age', 'Sex', 'ChestPain', 'RestBP', 'Chol']]"
      ],
      "metadata": {
        "id": "Kh_nfNupVpIj"
      },
      "execution_count": null,
      "outputs": []
    },
    {
      "cell_type": "code",
      "source": [
        "print(df_ex)"
      ],
      "metadata": {
        "colab": {
          "base_uri": "https://localhost:8080/"
        },
        "id": "VmUxmKvDWPK2",
        "outputId": "fc6288f1-f8c5-4487-eabf-ae670bc51d79"
      },
      "execution_count": null,
      "outputs": [
        {
          "output_type": "stream",
          "name": "stdout",
          "text": [
            "     Age  Sex     ChestPain  RestBP  Chol\n",
            "0     63    1       typical     145   233\n",
            "1     67    1  asymptomatic     160   286\n",
            "2     67    1  asymptomatic     120   229\n",
            "3     37    1    nonanginal     130   250\n",
            "4     41    0    nontypical     130   204\n",
            "..   ...  ...           ...     ...   ...\n",
            "298   45    1       typical     110   264\n",
            "299   68    1  asymptomatic     144   193\n",
            "300   57    1  asymptomatic     130   131\n",
            "301   57    0    nontypical     130   236\n",
            "302   38    1    nonanginal     138   175\n",
            "\n",
            "[303 rows x 5 columns]\n"
          ]
        }
      ]
    },
    {
      "cell_type": "code",
      "source": [
        "from sklearn.model_selection import train_test_split\n",
        "train_set, test_set = train_test_split(df_ex, test_size=0.2, random_state=42)"
      ],
      "metadata": {
        "id": "k_PxntD3WRSF"
      },
      "execution_count": null,
      "outputs": []
    },
    {
      "cell_type": "code",
      "source": [
        "print(f\"Rows in train set: {len(train_set)}\\nRows in test set: {len(test_set)}\\n\")"
      ],
      "metadata": {
        "colab": {
          "base_uri": "https://localhost:8080/"
        },
        "id": "LEBU26hFW-cD",
        "outputId": "fd42840b-d0b9-4eeb-db1c-a5284104c0cc"
      },
      "execution_count": null,
      "outputs": [
        {
          "output_type": "stream",
          "name": "stdout",
          "text": [
            "Rows in train set: 242\n",
            "Rows in test set: 61\n",
            "\n"
          ]
        }
      ]
    },
    {
      "cell_type": "code",
      "source": [
        "from sklearn.linear_model import LogisticRegression, LinearRegression\n",
        "from sklearn.neighbors import KNeighborsClassifier\n",
        "X_train = train_set[['Age', 'Sex', 'RestBP', 'Chol']]  # Features\n",
        "X_test = test_set[['Age', 'Sex', 'RestBP', 'Chol']]    # Features\n",
        "y_train_class = train_set['ChestPain']  # For classification tasks\n",
        "y_test_class = test_set['ChestPain']    # For classification tasks\n",
        "y_train_reg = train_set['RestBP']       # For regression task (linear regression)\n",
        "y_test_reg = test_set['RestBP']\n",
        "\n",
        "logistic_model = LogisticRegression(max_iter=2000)\n",
        "logistic_model.fit(X_train, y_train_class)\n",
        "y_pred_logreg = logistic_model.predict(X_test)\n",
        "\n",
        "knn_model = KNeighborsClassifier(n_neighbors=3)\n",
        "knn_model.fit(X_train, y_train_class)\n",
        "y_pred_knn = knn_model.predict(X_test)\n",
        "\n",
        "linear_reg_model = LinearRegression()\n",
        "linear_reg_model.fit(X_train, y_train_reg)\n",
        "y_pred_linreg = linear_reg_model.predict(X_test)"
      ],
      "metadata": {
        "colab": {
          "base_uri": "https://localhost:8080/"
        },
        "id": "dbmro-obi5u1",
        "outputId": "43aff3c2-e73b-4466-f8bc-e38d62b4a25d"
      },
      "execution_count": null,
      "outputs": [
        {
          "output_type": "stream",
          "name": "stderr",
          "text": [
            "/usr/local/lib/python3.10/dist-packages/sklearn/linear_model/_logistic.py:460: ConvergenceWarning: lbfgs failed to converge (status=1):\n",
            "STOP: TOTAL NO. of ITERATIONS REACHED LIMIT.\n",
            "\n",
            "Increase the number of iterations (max_iter) or scale the data as shown in:\n",
            "    https://scikit-learn.org/stable/modules/preprocessing.html\n",
            "Please also refer to the documentation for alternative solver options:\n",
            "    https://scikit-learn.org/stable/modules/linear_model.html#logistic-regression\n",
            "  n_iter_i = _check_optimize_result(\n"
          ]
        }
      ]
    },
    {
      "cell_type": "code",
      "source": [
        "# Import necessary libraries\n",
        "from sklearn.linear_model import LogisticRegression, LinearRegression\n",
        "from sklearn.neighbors import KNeighborsClassifier\n",
        "from sklearn.preprocessing import StandardScaler\n",
        "\n",
        "# Separate features (X) and target variable (y)\n",
        "X_train = train_set[['Age', 'Sex', 'RestBP', 'Chol']]  # Features\n",
        "X_test = test_set[['Age', 'Sex', 'RestBP', 'Chol']]    # Features\n",
        "y_train_class = train_set['ChestPain']  # For classification tasks\n",
        "y_test_class = test_set['ChestPain']    # For classification tasks\n",
        "y_train_reg = train_set['RestBP']       # For regression task (linear regression)\n",
        "y_test_reg = test_set['RestBP']         # For regression task (linear regression)\n",
        "\n",
        "# Step 1: Scale the features\n",
        "scaler = StandardScaler()\n",
        "X_train_scaled = scaler.fit_transform(X_train)\n",
        "X_test_scaled = scaler.transform(X_test)\n",
        "\n",
        "# 1. Logistic Regression (classification)\n",
        "logistic_model = LogisticRegression(max_iter=2000)\n",
        "logistic_model.fit(X_train_scaled, y_train_class)\n",
        "y_pred_logreg = logistic_model.predict(X_test_scaled)\n",
        "print(f'Logistic Regression Predictions: {y_pred_logreg}')\n",
        "\n",
        "# 2. K-Nearest Neighbors (KNN) Classification\n",
        "knn_model = KNeighborsClassifier(n_neighbors=3)\n",
        "knn_model.fit(X_train_scaled, y_train_class)\n",
        "y_pred_knn = knn_model.predict(X_test_scaled)\n",
        "print(f'KNN Predictions: {y_pred_knn}')\n",
        "\n",
        "# 3. Linear Regression (for predicting RestBP)\n",
        "linear_reg_model = LinearRegression()\n",
        "linear_reg_model.fit(X_train_scaled, y_train_reg)\n",
        "y_pred_linreg = linear_reg_model.predict(X_test_scaled)\n",
        "print(f'Linear Regression Predictions: {y_pred_linreg}')\n"
      ],
      "metadata": {
        "colab": {
          "base_uri": "https://localhost:8080/"
        },
        "id": "XANA7EBZqTe1",
        "outputId": "f0209291-dd1e-4d3d-cd00-ff9ce95cf660"
      },
      "execution_count": null,
      "outputs": [
        {
          "output_type": "stream",
          "name": "stdout",
          "text": [
            "Logistic Regression Predictions: ['asymptomatic' 'asymptomatic' 'asymptomatic' 'asymptomatic'\n",
            " 'asymptomatic' 'asymptomatic' 'asymptomatic' 'asymptomatic'\n",
            " 'asymptomatic' 'asymptomatic' 'asymptomatic' 'nontypical' 'asymptomatic'\n",
            " 'asymptomatic' 'asymptomatic' 'asymptomatic' 'nonanginal' 'asymptomatic'\n",
            " 'asymptomatic' 'nonanginal' 'asymptomatic' 'asymptomatic' 'asymptomatic'\n",
            " 'nonanginal' 'asymptomatic' 'nontypical' 'asymptomatic' 'asymptomatic'\n",
            " 'asymptomatic' 'asymptomatic' 'asymptomatic' 'asymptomatic' 'nonanginal'\n",
            " 'asymptomatic' 'asymptomatic' 'nontypical' 'asymptomatic' 'asymptomatic'\n",
            " 'asymptomatic' 'asymptomatic' 'asymptomatic' 'asymptomatic'\n",
            " 'asymptomatic' 'asymptomatic' 'asymptomatic' 'asymptomatic'\n",
            " 'asymptomatic' 'asymptomatic' 'asymptomatic' 'asymptomatic'\n",
            " 'asymptomatic' 'nonanginal' 'asymptomatic' 'asymptomatic' 'asymptomatic'\n",
            " 'asymptomatic' 'asymptomatic' 'asymptomatic' 'asymptomatic'\n",
            " 'asymptomatic' 'asymptomatic']\n",
            "KNN Predictions: ['asymptomatic' 'asymptomatic' 'nontypical' 'asymptomatic' 'asymptomatic'\n",
            " 'asymptomatic' 'asymptomatic' 'asymptomatic' 'asymptomatic' 'nonanginal'\n",
            " 'nontypical' 'asymptomatic' 'asymptomatic' 'asymptomatic' 'nonanginal'\n",
            " 'asymptomatic' 'asymptomatic' 'nonanginal' 'asymptomatic' 'asymptomatic'\n",
            " 'asymptomatic' 'asymptomatic' 'asymptomatic' 'nonanginal' 'typical'\n",
            " 'asymptomatic' 'nontypical' 'asymptomatic' 'asymptomatic' 'nonanginal'\n",
            " 'asymptomatic' 'asymptomatic' 'nonanginal' 'nonanginal' 'nonanginal'\n",
            " 'nontypical' 'asymptomatic' 'nonanginal' 'asymptomatic' 'asymptomatic'\n",
            " 'nonanginal' 'nontypical' 'asymptomatic' 'asymptomatic' 'asymptomatic'\n",
            " 'asymptomatic' 'asymptomatic' 'asymptomatic' 'asymptomatic'\n",
            " 'asymptomatic' 'asymptomatic' 'nonanginal' 'nontypical' 'asymptomatic'\n",
            " 'asymptomatic' 'asymptomatic' 'asymptomatic' 'asymptomatic'\n",
            " 'asymptomatic' 'asymptomatic' 'asymptomatic']\n",
            "Linear Regression Predictions: [130. 110. 125. 100. 130. 140. 135. 123. 152. 135. 120. 118. 112. 152.\n",
            " 130. 110. 130. 132. 114. 130. 115. 130. 140. 120. 165. 122. 115. 110.\n",
            " 180. 118. 125. 148. 120. 160. 140. 126. 125. 120. 130. 110. 130. 140.\n",
            " 120. 140. 120. 146. 130. 130. 120. 118. 138. 120. 135. 140. 130. 110.\n",
            " 128. 120. 130. 138. 158.]\n"
          ]
        }
      ]
    },
    {
      "cell_type": "code",
      "source": [
        "# Import necessary libraries\n",
        "from sklearn.metrics import confusion_matrix, classification_report, accuracy_score\n",
        "import matplotlib.pyplot as plt\n",
        "\n",
        "# 1. Logistic Regression\n",
        "y_pred_logreg = logistic_model.predict(X_test_scaled)\n",
        "logreg_accuracy = accuracy_score(y_test_class, y_pred_logreg)\n",
        "print(logreg_accuracy)\n",
        "print(\"Logistic Regression Classification Report:\")\n",
        "print(classification_report(y_test_class, y_pred_logreg))\n",
        "logreg_cm = confusion_matrix(y_test_class, y_pred_logreg)\n",
        "print(\"Logistic Regression Confusion Matrix:\")\n",
        "print(logreg_cm)\n",
        "\n",
        "# 2. K-Nearest Neighbors (KNN)\n",
        "y_pred_knn = knn_model.predict(X_test_scaled)\n",
        "knn_accuracy = accuracy_score(y_test_class, y_pred_knn)\n",
        "print(knn_accuracy)\n",
        "print(\"KNN Classification Report:\")\n",
        "print(classification_report(y_test_class, y_pred_knn))\n",
        "knn_cm = confusion_matrix(y_test_class, y_pred_knn)\n",
        "print(\"KNN Confusion Matrix:\")\n",
        "print(knn_cm)\n",
        "\n",
        "# 3. Comparative Study using Pie Chart (Accuracy comparison)\n",
        "labels = ['Logistic Regression', 'KNN']\n",
        "sizes = [logreg_accuracy, knn_accuracy]\n",
        "colors = ['#ff9999','#66b3ff']\n",
        "explode = (0.1, 0)  # explode the first slice (Logistic Regression)\n",
        "\n",
        "plt.figure(figsize=(7, 7))\n",
        "plt.pie(sizes, explode=explode, labels=labels, colors=colors, autopct='%1.1f%%',\n",
        "        shadow=True, startangle=140)\n",
        "plt.axis('equal')  # Equal aspect ratio ensures that pie chart is drawn as a circle.\n",
        "plt.title('Comparative Accuracy: Logistic Regression vs KNN')\n",
        "plt.show()\n"
      ],
      "metadata": {
        "colab": {
          "base_uri": "https://localhost:8080/",
          "height": 1000
        },
        "id": "k1ywysAPq0yg",
        "outputId": "dd9bb00d-072c-49ce-c80f-8b136b8643c6"
      },
      "execution_count": null,
      "outputs": [
        {
          "output_type": "stream",
          "name": "stdout",
          "text": [
            "0.6065573770491803\n",
            "Logistic Regression Classification Report:\n",
            "              precision    recall  f1-score   support\n",
            "\n",
            "asymptomatic       0.64      0.94      0.76        36\n",
            "  nonanginal       0.40      0.12      0.19        16\n",
            "  nontypical       0.33      0.12      0.18         8\n",
            "     typical       0.00      0.00      0.00         1\n",
            "\n",
            "    accuracy                           0.61        61\n",
            "   macro avg       0.34      0.30      0.28        61\n",
            "weighted avg       0.53      0.61      0.52        61\n",
            "\n",
            "Logistic Regression Confusion Matrix:\n",
            "[[34  1  1  0]\n",
            " [14  2  0  0]\n",
            " [ 5  2  1  0]\n",
            " [ 0  0  1  0]]\n",
            "0.4918032786885246\n",
            "KNN Classification Report:\n",
            "              precision    recall  f1-score   support\n",
            "\n",
            "asymptomatic       0.60      0.72      0.66        36\n",
            "  nonanginal       0.27      0.19      0.22        16\n",
            "  nontypical       0.17      0.12      0.14         8\n",
            "     typical       0.00      0.00      0.00         1\n",
            "\n",
            "    accuracy                           0.49        61\n",
            "   macro avg       0.26      0.26      0.26        61\n",
            "weighted avg       0.45      0.49      0.47        61\n",
            "\n",
            "KNN Confusion Matrix:\n",
            "[[26  6  3  1]\n",
            " [11  3  2  0]\n",
            " [ 5  2  1  0]\n",
            " [ 1  0  0  0]]\n"
          ]
        },
        {
          "output_type": "stream",
          "name": "stderr",
          "text": [
            "/usr/local/lib/python3.10/dist-packages/sklearn/metrics/_classification.py:1471: UndefinedMetricWarning: Precision and F-score are ill-defined and being set to 0.0 in labels with no predicted samples. Use `zero_division` parameter to control this behavior.\n",
            "  _warn_prf(average, modifier, msg_start, len(result))\n",
            "/usr/local/lib/python3.10/dist-packages/sklearn/metrics/_classification.py:1471: UndefinedMetricWarning: Precision and F-score are ill-defined and being set to 0.0 in labels with no predicted samples. Use `zero_division` parameter to control this behavior.\n",
            "  _warn_prf(average, modifier, msg_start, len(result))\n",
            "/usr/local/lib/python3.10/dist-packages/sklearn/metrics/_classification.py:1471: UndefinedMetricWarning: Precision and F-score are ill-defined and being set to 0.0 in labels with no predicted samples. Use `zero_division` parameter to control this behavior.\n",
            "  _warn_prf(average, modifier, msg_start, len(result))\n"
          ]
        },
        {
          "output_type": "display_data",
          "data": {
            "text/plain": [
              "<Figure size 700x700 with 1 Axes>"
            ],
            "image/png": "[encoded data removed]"
          },
          "metadata": {}
        }
      ]
    },
    {
      "cell_type": "code",
      "source": [],
      "metadata": {
        "id": "rRlQBsztrt1a"
      },
      "execution_count": null,
      "outputs": []
    }
  ]
}